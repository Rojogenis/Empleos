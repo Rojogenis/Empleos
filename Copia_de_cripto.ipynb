{
  "nbformat": 4,
  "nbformat_minor": 0,
  "metadata": {
    "colab": {
      "name": "Copia de cripto.ipynb",
      "provenance": [],
      "collapsed_sections": [],
      "authorship_tag": "ABX9TyN6cHqF1kxLXAiwjkg77FOV",
      "include_colab_link": true
    },
    "kernelspec": {
      "name": "python3",
      "display_name": "Python 3"
    },
    "language_info": {
      "name": "python"
    }
  },
  "cells": [
    {
      "cell_type": "markdown",
      "metadata": {
        "id": "view-in-github",
        "colab_type": "text"
      },
      "source": [
        "<a href=\"https://colab.research.google.com/github/Rojogenis/Empleos/blob/master/Copia_de_cripto.ipynb\" target=\"_parent\"><img src=\"https://colab.research.google.com/assets/colab-badge.svg\" alt=\"Open In Colab\"/></a>"
      ]
    },
    {
      "cell_type": "markdown",
      "metadata": {
        "id": "hcCvXfw6f2HZ"
      },
      "source": [
        "**CALCULO MANUAL DE LA DETERMINATE PARA QUE SEA IGUAL A 1**"
      ]
    },
    {
      "cell_type": "code",
      "metadata": {
        "colab": {
          "base_uri": "https://localhost:8080/"
        },
        "id": "4J5n3AtIfwb7",
        "outputId": "d36dd60c-030d-4d81-e387-29ef0f5a4351"
      },
      "source": [
        "#ASIGNAMOS LOS DAATOS DE LA MATRIZ\n",
        "a11=1; a12=55;  a13=28\n",
        "a21=0; a22=1; a23=35\n",
        "a31=0; a32=0; a33=1\n",
        "\n",
        "#TODOS LOS POSITIVOS\n",
        "a=a11*a22*a33\n",
        "b=a12*a23*a31\n",
        "c=a13*a21*a32\n",
        "\n",
        "#TODOS LOS NEGATIVOS\n",
        "d=a13*a22*a31\n",
        "e=a11*a23*a32\n",
        "f=a12*a21*a33\n",
        "\n",
        "#IMPORIMIMOS VALORES\n",
        "print(a,b,c)\n",
        "print(d,e,f)"
      ],
      "execution_count": null,
      "outputs": [
        {
          "output_type": "stream",
          "name": "stdout",
          "text": [
            "1 0 0\n",
            "0 0 0\n"
          ]
        }
      ]
    },
    {
      "cell_type": "markdown",
      "metadata": {
        "id": "tbom_3rZfssT"
      },
      "source": [
        "**SE IMPRIMEN RESULTADOS DE LA DETERMINANTE**\n"
      ]
    },
    {
      "cell_type": "code",
      "metadata": {
        "colab": {
          "base_uri": "https://localhost:8080/"
        },
        "id": "Qn7qlv8kn2t3",
        "outputId": "113e3dc5-2304-441f-f773-8fa35cf3e16e"
      },
      "source": [
        "print(a+b+c)\n",
        "print(-d-e-f)\n",
        "print(a+b+c-d-e-f)"
      ],
      "execution_count": null,
      "outputs": [
        {
          "output_type": "stream",
          "name": "stdout",
          "text": [
            "1\n",
            "0\n",
            "1\n"
          ]
        }
      ]
    },
    {
      "cell_type": "markdown",
      "metadata": {
        "id": "MaowqwTJi5oR"
      },
      "source": [
        "*SE ESCRIBE LA LLAVE EN FORMA DE MATRIZ**"
      ]
    },
    {
      "cell_type": "code",
      "metadata": {
        "id": "DZMPbjm9i3PG"
      },
      "source": [
        "import numpy as np\n",
        "llave =np.empty([3,3])\n",
        "\n",
        "llave=np.array([\n",
        "       [1, 56, 18,  8, 2 ],\n",
        "       [0,  1,  5,  5, 7 ],\n",
        "       [0,  0,  1, 28, 5 ],\n",
        "       [0,  0,  0,  1, 3 ],\n",
        "       [0,  0,  0,  0, 1 ]  \n",
        "       ])"
      ],
      "execution_count": null,
      "outputs": []
    },
    {
      "cell_type": "code",
      "metadata": {
        "colab": {
          "base_uri": "https://localhost:8080/"
        },
        "id": "YrmvxaYUlz0o",
        "outputId": "f250e114-bcef-4174-fcb3-953d6867737a"
      },
      "source": [
        "llave"
      ],
      "execution_count": null,
      "outputs": [
        {
          "output_type": "execute_result",
          "data": {
            "text/plain": [
              "array([[ 1, 56, 18,  8,  2],\n",
              "       [ 0,  1,  5,  5,  7],\n",
              "       [ 0,  0,  1, 28,  5],\n",
              "       [ 0,  0,  0,  1,  3],\n",
              "       [ 0,  0,  0,  0,  1]])"
            ]
          },
          "metadata": {},
          "execution_count": 4
        }
      ]
    },
    {
      "cell_type": "markdown",
      "metadata": {
        "id": "-kjGwJEmjHba"
      },
      "source": [
        "**INTRODUCIMOS DATOS**"
      ]
    },
    {
      "cell_type": "code",
      "metadata": {
        "colab": {
          "base_uri": "https://localhost:8080/"
        },
        "id": "tOx_VVkvjRtf",
        "outputId": "af50fd8b-4e4d-4eb3-92f1-a9cb40fc59e8"
      },
      "source": [
        "count=0   #Este es para mandar el numero de veses que se repetira el ciclo\n",
        "text =input (\"Intriduce la frase a cifrar \\n\")                                             \n",
        "\n",
        "#rellenamos la frase con espacios en blancos para poderla adaptar al tamaño de una matriz\n",
        "while len(text)%len(llave[1,:]) !=0:                                               \n",
        "  text=text+\" \"\n",
        " \n",
        "  count = count + 1\n",
        "\n",
        "  #Paramos en caso de quer falle \n",
        "  if  count> len(text):\n",
        "    print(\"Error de logica\")\n",
        "    break"
      ],
      "execution_count": null,
      "outputs": [
        {
          "name": "stdout",
          "output_type": "stream",
          "text": [
            "Intriduce la frase a cifrar \n",
            "Hola Jimmy\n"
          ]
        }
      ]
    },
    {
      "cell_type": "markdown",
      "metadata": {
        "id": "ToBsMvWwhzJH"
      },
      "source": [
        "**SE CONVIERTEN TODOS LOS CARACTERES A ASCII PARA TRATARLOS**"
      ]
    },
    {
      "cell_type": "code",
      "metadata": {
        "id": "NSPb_4ft1QZZ",
        "colab": {
          "base_uri": "https://localhost:8080/"
        },
        "outputId": "8853ac90-15b7-44d3-8b18-f9461c1b6130"
      },
      "source": [
        "ascii_values = []\n",
        "for character in text:\n",
        "    ascii_values.append(ord(character))\n",
        "print(ascii_values)"
      ],
      "execution_count": null,
      "outputs": [
        {
          "output_type": "stream",
          "name": "stdout",
          "text": [
            "[72, 111, 108, 97, 32, 74, 105, 109, 109, 121]\n"
          ]
        }
      ]
    },
    {
      "cell_type": "markdown",
      "metadata": {
        "id": "bxkuQm_eoj20"
      },
      "source": [
        "**SE CONVIERTEN EN MATRIZ**"
      ]
    },
    {
      "cell_type": "code",
      "metadata": {
        "id": "8ihAGs9itstJ"
      },
      "source": [
        "\n",
        "j=0\n",
        "ite=int(((len(ascii_values))/len(llave[1,:])))\n",
        "y=len(llave[1,:])"
      ],
      "execution_count": null,
      "outputs": []
    },
    {
      "cell_type": "code",
      "metadata": {
        "id": "Ar6Wiq46N_6m"
      },
      "source": [
        "text=np.empty([ite,y])"
      ],
      "execution_count": null,
      "outputs": []
    },
    {
      "cell_type": "code",
      "metadata": {
        "colab": {
          "base_uri": "https://localhost:8080/"
        },
        "id": "c6OZAtlnN51H",
        "outputId": "334eed6e-6e77-443e-83db-3f577ac61149"
      },
      "source": [
        " j=0\n",
        " for i in range(ite):\n",
        "  for e in range(y):\n",
        "    print(i,\",\",e)\n",
        "    text[i, e]=ascii_values[j]\n",
        "    j=j+1"
      ],
      "execution_count": null,
      "outputs": [
        {
          "output_type": "stream",
          "name": "stdout",
          "text": [
            "0 , 0\n",
            "0 , 1\n",
            "0 , 2\n",
            "0 , 3\n",
            "0 , 4\n",
            "1 , 0\n",
            "1 , 1\n",
            "1 , 2\n",
            "1 , 3\n",
            "1 , 4\n"
          ]
        }
      ]
    },
    {
      "cell_type": "code",
      "metadata": {
        "colab": {
          "base_uri": "https://localhost:8080/"
        },
        "id": "DLx21gTObCWt",
        "outputId": "a4b13880-a6ca-40cc-d7a8-f40d244200ea"
      },
      "source": [
        "ascii_values"
      ],
      "execution_count": null,
      "outputs": [
        {
          "output_type": "execute_result",
          "data": {
            "text/plain": [
              "[72, 111, 108, 97, 32, 74, 105, 109, 109, 121]"
            ]
          },
          "metadata": {},
          "execution_count": 10
        }
      ]
    },
    {
      "cell_type": "code",
      "metadata": {
        "colab": {
          "base_uri": "https://localhost:8080/"
        },
        "id": "8heGdvSye9FB",
        "outputId": "3967a6c0-b0b3-4f45-d408-29a4969ed08d"
      },
      "source": [
        "text"
      ],
      "execution_count": null,
      "outputs": [
        {
          "output_type": "execute_result",
          "data": {
            "text/plain": [
              "array([[ 72., 111., 108.,  97.,  32.],\n",
              "       [ 74., 105., 109., 109., 121.]])"
            ]
          },
          "metadata": {},
          "execution_count": 12
        }
      ]
    },
    {
      "cell_type": "markdown",
      "metadata": {
        "id": "I8KeXrwco0Gq"
      },
      "source": [
        "**MULTIPLICAMOS LA MATRIZ POR LA LLAVE PARA ENCRIPTAR**"
      ]
    },
    {
      "cell_type": "code",
      "metadata": {
        "id": "Oyxgbm423Hth"
      },
      "source": [
        "msjcod=np.matmul(text,llave)"
      ],
      "execution_count": null,
      "outputs": []
    },
    {
      "cell_type": "code",
      "metadata": {
        "colab": {
          "base_uri": "https://localhost:8080/"
        },
        "id": "ksFgZhQC4B4m",
        "outputId": "9b8b4fc7-0da7-488f-ae08-5bb84871dcaa"
      },
      "source": [
        "msjcod"
      ],
      "execution_count": null,
      "outputs": [
        {
          "output_type": "execute_result",
          "data": {
            "text/plain": [
              "array([[  72., 4143., 1959., 4252., 1784.],\n",
              "       [  74., 4249., 1966., 4278., 1876.]])"
            ]
          },
          "metadata": {},
          "execution_count": 14
        }
      ]
    },
    {
      "cell_type": "markdown",
      "metadata": {
        "id": "LI1IWsfNpQ6p"
      },
      "source": [
        "DESENCRIPTAMOS PARA MULTIPLICANDO EL MENSAJE CODIFICADO POR LA INVERSA DE LA MATRIZ"
      ]
    },
    {
      "cell_type": "code",
      "metadata": {
        "id": "s9mH-6mW4GQp"
      },
      "source": [
        "msj0= np.matmul(msjcod,np.linalg.inv(llave))"
      ],
      "execution_count": null,
      "outputs": []
    },
    {
      "cell_type": "markdown",
      "metadata": {
        "id": "egvTRFo2px9u"
      },
      "source": [
        "GUARDAMOS LA FRASE EN UN STRING Y LO IMPRIMIMOS"
      ]
    },
    {
      "cell_type": "code",
      "metadata": {
        "colab": {
          "base_uri": "https://localhost:8080/"
        },
        "id": "dXFxIhKnDx-E",
        "outputId": "179eff98-8daa-4b66-bb3d-142f388bc29b"
      },
      "source": [
        "frase = \"\"\n",
        "x=[]\n",
        "j=0\n",
        "for e in range(ite):\n",
        "  for i in range(y):\n",
        "    frase=frase+chr(int(msj0[e,i]))\n",
        "print(frase)"
      ],
      "execution_count": null,
      "outputs": [
        {
          "output_type": "stream",
          "name": "stdout",
          "text": [
            "Hola Jimmy\n"
          ]
        }
      ]
    },
    {
      "cell_type": "code",
      "metadata": {
        "id": "yJOJC_is0zDD",
        "colab": {
          "base_uri": "https://localhost:8080/"
        },
        "outputId": "7f0bf691-855a-4213-ef9c-8ca7c9d75c32"
      },
      "source": [
        "msj0"
      ],
      "execution_count": null,
      "outputs": [
        {
          "output_type": "execute_result",
          "data": {
            "text/plain": [
              "array([[ 72., 111., 108.,  97.,  32.],\n",
              "       [109., 117., 110., 100., 111.]])"
            ]
          },
          "metadata": {},
          "execution_count": 42
        }
      ]
    },
    {
      "cell_type": "code",
      "metadata": {
        "colab": {
          "base_uri": "https://localhost:8080/"
        },
        "id": "L30d_5L_aE4f",
        "outputId": "9e2a45d6-0793-4431-c199-75196f414f78"
      },
      "source": [
        ""
      ],
      "execution_count": null,
      "outputs": [
        {
          "output_type": "execute_result",
          "data": {
            "text/plain": [
              "[72, 111, 108, 97, 32, 109, 117, 110, 100, 111, 32, 32]"
            ]
          },
          "metadata": {},
          "execution_count": 26
        }
      ]
    },
    {
      "cell_type": "code",
      "metadata": {
        "id": "lV6ED7XTaGJB"
      },
      "source": [
        ""
      ],
      "execution_count": null,
      "outputs": []
    }
  ]
}